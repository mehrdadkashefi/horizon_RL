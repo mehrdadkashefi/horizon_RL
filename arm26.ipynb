{
 "cells": [
  {
   "cell_type": "code",
   "execution_count": 1,
   "metadata": {},
   "outputs": [],
   "source": [
    "import mujoco_py\n",
    "import os\n"
   ]
  },
  {
   "cell_type": "code",
   "execution_count": 587,
   "metadata": {},
   "outputs": [],
   "source": [
    "# Environment imports \n",
    "import numpy as np\n",
    "from gym import utils\n",
    "from gym.envs.mujoco import mujoco_env\n",
    "\n",
    "\n",
    "class HorizonEnv(mujoco_env.MujocoEnv, utils.EzPickle):\n",
    "    def __init__(self):\n",
    "        self.frame_skip = 1\n",
    "        self.dt_mujoco = 0.01\n",
    "        self.dt_step = 0.01 * self.frame_skip \n",
    "        self.num_targets = 1\n",
    "        self.delay_range = (np.array([300, 1000])/1000/self.dt_step).astype('int')\n",
    "        self.visual_delay = int(70/1000/self.dt_step)\n",
    "        self.visual_feedback = [np.zeros(2,)]\n",
    "\n",
    "        self.perio_delay = int(30/1000/self.dt_step)\n",
    "        self.perio_feedback = [np.zeros(2,)]\n",
    "\n",
    "        utils.EzPickle.__init__(self)\n",
    "        mujoco_env.MujocoEnv.__init__(self, \"./arm26.xml\", self.frame_skip)\n",
    "\n",
    "        \n",
    "        \n",
    "    def step(self, a):\n",
    "\n",
    "        vec = self.get_body_com(\"fingertip\") - self.get_body_com(\"target_1\")\n",
    "        reward_dist = -np.linalg.norm(vec)\n",
    "        reward_ctrl = -np.square(a).sum()\n",
    "        reward = reward_dist + reward_ctrl\n",
    "\n",
    "\n",
    "        self.do_simulation(a, self.frame_skip)\n",
    "        ob = self._get_obs()\n",
    "\n",
    "        # Update visual and perio feedback with delays\n",
    "        self.visual_feedback.insert(0, ob[:2])\n",
    "        self.perio_feedback.insert(0, ob[2:4])\n",
    "        del self.visual_feedback[-1]\n",
    "        del self.perio_feedback[-1]\n",
    "        ob = np.concatenate((self.visual_feedback[-1],  self.perio_feedback[-1], ob[4:]))\n",
    "\n",
    "        done = False\n",
    "        info = dict(reward_dist=reward_dist, reward_ctrl=reward_ctrl)\n",
    "        return ob, reward, done, info\n",
    "\n",
    "    def viewer_setup(self):\n",
    "        self.viewer.cam.trackbodyid = 0\n",
    "\n",
    "    def reset_model(self):\n",
    "        # Read initial pos and vel\n",
    "        qpos = self.init_qpos\n",
    "        qvel = self.init_qvel\n",
    "        # Set the goal\n",
    "        x = np.random.uniform(0,2.1, (1,))\n",
    "        y = np.random.uniform(0,2.1, (1,))\n",
    "        self.goal = self.joint2cart(x, y)\n",
    "        qpos[4:6] = self.goal.reshape(-1, )\n",
    "        # Set initial hand postion\n",
    "        x = np.random.uniform(0,2.1, (1,))\n",
    "        y = np.random.uniform(0,2.1, (1,))\n",
    "        qpos[:2] = np.concatenate((x, y))\n",
    "        qpos[2:4] = self.joint2cart(x, y).reshape(-1, )\n",
    "        # Load visual delay list\n",
    "        self.visual_feedback = [qpos[2:4] for _ in range(self.visual_delay)]\n",
    "        self.perio_feedback = [qpos[:2] for _ in range(self.perio_delay)]\n",
    "\n",
    "        # Set the env\n",
    "        self.set_state(qpos, qvel)\n",
    "\n",
    "        return self._get_obs()\n",
    "\n",
    "    def _get_obs(self):\n",
    "        th_pos = self.get_body_com('target_h')\n",
    "        t1_pos = self.get_body_com('target_1')\n",
    "              # Return Finger tip postion, joint position, home target pos, T1 target pos\n",
    "        return np.concatenate((self.get_body_com('fingertip')[:2], self.data.qpos.flat[:2] , th_pos[:2], t1_pos[:2]))\n",
    "    \n",
    "    def joint2cart(self, th1, th2):\n",
    "        x = 0.5*np.cos(th1) + 0.5*np.cos(th1+th2)\n",
    "        y = 0.5*np.sin(th1) + 0.5*np.sin(th1+th2) \n",
    "        return np.array([x, y])\n",
    "    \n"
   ]
  },
  {
   "cell_type": "code",
   "execution_count": 578,
   "metadata": {},
   "outputs": [
    {
     "data": {
      "text/plain": [
       "array([-0.41860971,  0.40110137,  1.42518261,  1.90473558, -0.51860971,\n",
       "        0.50110137, -0.146315  ,  0.66038235])"
      ]
     },
     "execution_count": 578,
     "metadata": {},
     "output_type": "execute_result"
    }
   ],
   "source": [
    "env = HorizonEnv()\n",
    "env.reset()"
   ]
  },
  {
   "cell_type": "code",
   "execution_count": 582,
   "metadata": {},
   "outputs": [],
   "source": [
    "\n",
    "\n",
    "\n",
    "hand_nd = []\n",
    "hand = []\n",
    "RW = []\n",
    "for _ in range(100):\n",
    "    #obnd = env._get_obs()\n",
    "    ob, reward, done, info = env.step(np.random.uniform(0, 1, size=(6,)))\n",
    "    #hand_nd.append(obnd[:2])\n",
    "    hand.append(ob[:2])\n",
    "    RW.append(reward)\n",
    "\n"
   ]
  },
  {
   "cell_type": "code",
   "execution_count": 583,
   "metadata": {},
   "outputs": [
    {
     "data": {
      "image/png": "[encoded data removed]",
      "text/plain": [
       "<Figure size 640x480 with 1 Axes>"
      ]
     },
     "metadata": {},
     "output_type": "display_data"
    }
   ],
   "source": [
    "plt.plot(hand)\n",
    "plt.plot(hand_nd)\n",
    "plt.show()"
   ]
  }
 ],
 "metadata": {
  "kernelspec": {
   "display_name": "rl",
   "language": "python",
   "name": "python3"
  },
  "language_info": {
   "codemirror_mode": {
    "name": "ipython",
    "version": 3
   },
   "file_extension": ".py",
   "mimetype": "text/x-python",
   "name": "python",
   "nbconvert_exporter": "python",
   "pygments_lexer": "ipython3",
   "version": "3.8.5"
  },
  "orig_nbformat": 4,
  "vscode": {
   "interpreter": {
    "hash": "44ad3313fd7a4b716a338bf9fd5dd0c44ad4ff100f729b6b290c36ca12ac3bb9"
   }
  }
 },
 "nbformat": 4,
 "nbformat_minor": 2
}
